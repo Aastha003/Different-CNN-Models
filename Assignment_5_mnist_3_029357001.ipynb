{
 "cells": [
  {
   "cell_type": "markdown",
   "metadata": {
    "id": "Nux_UqWWobF6"
   },
   "source": [
    "\n",
    "\n",
    "```\n",
    "# (d) (20 points) Architecture evaluation\n",
    "• Pick the best optimizer and it’s hyper-parameters from the previous part.\n",
    "• Using sub training and validation datasets, find the best architecture in terms\n",
    "of the number of layers, the number of units, and activation functions.\n",
    "• Report 3 best architectures in terms of test accuracy. Please include archi\u0002tecture diagram as shown in Figure 1.\n",
    "\n",
    "```\n",
    "\n"
   ]
  },
  {
   "cell_type": "code",
   "execution_count": 1,
   "metadata": {
    "colab": {
     "base_uri": "https://localhost:8080/"
    },
    "id": "Sp7IirtNoSW3",
    "outputId": "61b69e77-03fa-4388-8494-e14242a0973d"
   },
   "outputs": [
    {
     "name": "stdout",
     "output_type": "stream",
     "text": [
      "Downloading data from https://storage.googleapis.com/tensorflow/tf-keras-datasets/mnist.npz\n",
      "11493376/11490434 [==============================] - 0s 0us/step\n",
      "11501568/11490434 [==============================] - 0s 0us/step\n"
     ]
    }
   ],
   "source": [
    "#from mnist import MNIST\n",
    "import os\n",
    "#import numpy as np\n",
    "\n",
    "import numpy as np                   # advanced math library\n",
    "import matplotlib.pyplot as plt      # MATLAB like plotting routines\n",
    "import random                        # for generating random numbers\n",
    "\n",
    "from keras.datasets import mnist     # MNIST dataset is included in Keras\n",
    "from keras.models import Sequential  # Model type to be used\n",
    "\n",
    "from keras.layers.core import Dense, Dropout, Activation # Types of layers to be used in our model\n",
    "from keras.utils import np_utils                         # NumPy related tools\n",
    "from keras.preprocessing.image import ImageDataGenerator\n",
    "from tensorflow.keras import optimizers\n",
    "\n",
    "\n",
    "(X_train, y_train), (X_test, y_test) = mnist.load_data()\n",
    "\n",
    "#mndata = MNIST('mnist')\n",
    "\n",
    "#X_train, y_train = mndata.load_training()\n",
    "#X_test, y_test = mndata.load_testing()"
   ]
  },
  {
   "cell_type": "code",
   "execution_count": 2,
   "metadata": {
    "colab": {
     "base_uri": "https://localhost:8080/"
    },
    "id": "eTSInxRpoSW9",
    "outputId": "e4a5adf7-f148-4e83-db73-54b39032539a"
   },
   "outputs": [
    {
     "data": {
      "text/plain": [
       "(10000, 784)"
      ]
     },
     "execution_count": 2,
     "metadata": {},
     "output_type": "execute_result"
    }
   ],
   "source": [
    "X_train = X_train.reshape(60000, 784) # reshape 60,000 28 x 28 matrices into 60,000 784-length vectors.\n",
    "X_test = X_test.reshape(10000, 784)   # reshape 10,000 28 x 28 matrices into 10,000 784-length vectors.\n",
    "\n",
    "X_train = X_train.astype('float32')   # change integers to 32-bit floating point numbers\n",
    "X_test = X_test.astype('float32')\n",
    "\n",
    "X_train /= 255                        # normalize each value for each pixel for the entire vector for each input\n",
    "X_test /= 255\n",
    "\n",
    "np.shape(X_test)"
   ]
  },
  {
   "cell_type": "code",
   "execution_count": 3,
   "metadata": {
    "id": "3TT6jDvLo01I"
   },
   "outputs": [],
   "source": [
    "nb_classes = 10 # number of unique digits\n",
    "\n",
    "Y_train = np_utils.to_categorical(y_train, nb_classes)\n",
    "Y_test = np_utils.to_categorical(y_test, nb_classes)"
   ]
  },
  {
   "cell_type": "code",
   "execution_count": 4,
   "metadata": {
    "colab": {
     "base_uri": "https://localhost:8080/",
     "height": 283
    },
    "id": "ataMP8JloSXB",
    "outputId": "14a0d2fa-2e56-4f9f-e782-c84510a1d524"
   },
   "outputs": [
    {
     "data": {
      "image/png": "[encoded data removed]",
      "text/plain": [
       "<Figure size 432x288 with 1 Axes>"
      ]
     },
     "metadata": {
      "needs_background": "light"
     },
     "output_type": "display_data"
    },
    {
     "name": "stdout",
     "output_type": "stream",
     "text": [
      "3\n"
     ]
    }
   ],
   "source": [
    "import matplotlib.pyplot as plt\n",
    "import numpy as np\n",
    "\n",
    "id = 7\n",
    "\n",
    "image = np.array(X_train[id], dtype='float')\n",
    "pixels = image.reshape((28, 28))\n",
    "plt.imshow(pixels, cmap='gray')\n",
    "plt.show()\n",
    "\n",
    "# print(X_train[id])\n",
    "print(y_train[id])"
   ]
  },
  {
   "cell_type": "markdown",
   "metadata": {
    "id": "udE3HP_SpRWC"
   },
   "source": [
    "\n",
    "\n",
    "```\n",
    "# The best Optimizer obtained from the previous step is Adam's optimizer..\n",
    "```\n",
    "\n"
   ]
  },
  {
   "cell_type": "markdown",
   "metadata": {
    "id": "BvRUqr7NrwcU"
   },
   "source": [
    "Achitecture 1"
   ]
  },
  {
   "cell_type": "code",
   "execution_count": 15,
   "metadata": {
    "colab": {
     "base_uri": "https://localhost:8080/"
    },
    "id": "dPf8735foSXF",
    "outputId": "17015a32-cb88-4b6a-bcb5-784cdea172d1"
   },
   "outputs": [
    {
     "name": "stdout",
     "output_type": "stream",
     "text": [
      "Epoch 1/10\n"
     ]
    },
    {
     "name": "stderr",
     "output_type": "stream",
     "text": [
      "/usr/local/lib/python3.7/dist-packages/keras/optimizer_v2/adam.py:105: UserWarning: The `lr` argument is deprecated, use `learning_rate` instead.\n",
      "  super(Adam, self).__init__(name, **kwargs)\n"
     ]
    },
    {
     "name": "stdout",
     "output_type": "stream",
     "text": [
      "394/394 [==============================] - 5s 12ms/step - loss: 0.3505 - accuracy: 0.8969 - val_loss: 0.1587 - val_accuracy: 0.9565\n",
      "Epoch 2/10\n",
      "394/394 [==============================] - 4s 11ms/step - loss: 0.1635 - accuracy: 0.9523 - val_loss: 0.1129 - val_accuracy: 0.9691\n",
      "Epoch 3/10\n",
      "394/394 [==============================] - 4s 11ms/step - loss: 0.1206 - accuracy: 0.9638 - val_loss: 0.0909 - val_accuracy: 0.9758\n",
      "Epoch 4/10\n",
      "394/394 [==============================] - 5s 12ms/step - loss: 0.0967 - accuracy: 0.9710 - val_loss: 0.0805 - val_accuracy: 0.9755\n",
      "Epoch 5/10\n",
      "394/394 [==============================] - 4s 11ms/step - loss: 0.0819 - accuracy: 0.9746 - val_loss: 0.0758 - val_accuracy: 0.9777\n",
      "Epoch 6/10\n",
      "394/394 [==============================] - 4s 11ms/step - loss: 0.0692 - accuracy: 0.9792 - val_loss: 0.0738 - val_accuracy: 0.9787\n",
      "Epoch 7/10\n",
      "394/394 [==============================] - 4s 11ms/step - loss: 0.0619 - accuracy: 0.9807 - val_loss: 0.0683 - val_accuracy: 0.9798\n",
      "Epoch 8/10\n",
      "394/394 [==============================] - 4s 11ms/step - loss: 0.0544 - accuracy: 0.9830 - val_loss: 0.0690 - val_accuracy: 0.9797\n",
      "Epoch 9/10\n",
      "394/394 [==============================] - 4s 11ms/step - loss: 0.0488 - accuracy: 0.9847 - val_loss: 0.0658 - val_accuracy: 0.9806\n",
      "Epoch 10/10\n",
      "394/394 [==============================] - 5s 11ms/step - loss: 0.0440 - accuracy: 0.9860 - val_loss: 0.0669 - val_accuracy: 0.9794\n"
     ]
    },
    {
     "data": {
      "text/plain": [
       "<keras.callbacks.History at 0x7f340cc7ba90>"
      ]
     },
     "execution_count": 15,
     "metadata": {},
     "output_type": "execute_result"
    }
   ],
   "source": [
    "model_adam1 = Sequential()\n",
    "model_adam1.add(Dense(512, Activation('relu'), input_shape=(784,)))\n",
    "model_adam1.add(Dropout(0.45))\n",
    "model_adam1.add(Dense(10, Activation('softmax')))\n",
    "\n",
    "adam = optimizers.Adam(lr=0.001, beta_1=0.9, beta_2=0.999, epsilon=1e-08, decay=0.0)\n",
    "model_adam1.compile(loss='categorical_crossentropy', optimizer=adam, metrics=['accuracy'])\n",
    "\n",
    "model_adam1.fit(X_train, Y_train, batch_size=128, epochs=10, validation_split=0.16, verbose=1)"
   ]
  },
  {
   "cell_type": "code",
   "execution_count": 16,
   "metadata": {
    "colab": {
     "base_uri": "https://localhost:8080/"
    },
    "id": "dt_BEmTFtNVV",
    "outputId": "75891245-9344-44b3-dc15-d34225d3a937"
   },
   "outputs": [
    {
     "name": "stdout",
     "output_type": "stream",
     "text": [
      "313/313 [==============================] - 1s 4ms/step - loss: 0.0603 - accuracy: 0.9812\n",
      "Test accuracy Adam Optimizer - Architecture 1: 98.11999797821045\n"
     ]
    }
   ],
   "source": [
    "# Accuracy obtained from Architecture 1\n",
    "\n",
    "score = model_adam1.evaluate(X_test, Y_test)\n",
    "print('Test accuracy Adam Optimizer - Architecture 1:', score[1]*100)"
   ]
  },
  {
   "cell_type": "markdown",
   "metadata": {
    "id": "ctS5Y0R4tmHy"
   },
   "source": [
    "Architecture 2"
   ]
  },
  {
   "cell_type": "code",
   "execution_count": 23,
   "metadata": {
    "colab": {
     "base_uri": "https://localhost:8080/"
    },
    "id": "Wqpn58hHtoB5",
    "outputId": "1971ca2e-f249-48d7-bcb8-46501b5ef95c"
   },
   "outputs": [
    {
     "name": "stdout",
     "output_type": "stream",
     "text": [
      "Epoch 1/10\n"
     ]
    },
    {
     "name": "stderr",
     "output_type": "stream",
     "text": [
      "/usr/local/lib/python3.7/dist-packages/keras/optimizer_v2/adam.py:105: UserWarning: The `lr` argument is deprecated, use `learning_rate` instead.\n",
      "  super(Adam, self).__init__(name, **kwargs)\n"
     ]
    },
    {
     "name": "stdout",
     "output_type": "stream",
     "text": [
      "394/394 [==============================] - 5s 12ms/step - loss: 0.3472 - accuracy: 0.8943 - val_loss: 0.1411 - val_accuracy: 0.9605\n",
      "Epoch 2/10\n",
      "394/394 [==============================] - 4s 11ms/step - loss: 0.1721 - accuracy: 0.9470 - val_loss: 0.0988 - val_accuracy: 0.9719\n",
      "Epoch 3/10\n",
      "394/394 [==============================] - 4s 11ms/step - loss: 0.1325 - accuracy: 0.9580 - val_loss: 0.0919 - val_accuracy: 0.9722\n",
      "Epoch 4/10\n",
      "394/394 [==============================] - 4s 11ms/step - loss: 0.1138 - accuracy: 0.9640 - val_loss: 0.0932 - val_accuracy: 0.9740\n",
      "Epoch 5/10\n",
      "394/394 [==============================] - 4s 11ms/step - loss: 0.0981 - accuracy: 0.9685 - val_loss: 0.0902 - val_accuracy: 0.9746\n",
      "Epoch 6/10\n",
      "394/394 [==============================] - 4s 11ms/step - loss: 0.0881 - accuracy: 0.9725 - val_loss: 0.0874 - val_accuracy: 0.9740\n",
      "Epoch 7/10\n",
      "394/394 [==============================] - 5s 12ms/step - loss: 0.0807 - accuracy: 0.9739 - val_loss: 0.0823 - val_accuracy: 0.9775\n",
      "Epoch 8/10\n",
      "394/394 [==============================] - 4s 11ms/step - loss: 0.0768 - accuracy: 0.9753 - val_loss: 0.0838 - val_accuracy: 0.9765\n",
      "Epoch 9/10\n",
      "394/394 [==============================] - 4s 11ms/step - loss: 0.0710 - accuracy: 0.9770 - val_loss: 0.0773 - val_accuracy: 0.9794\n",
      "Epoch 10/10\n",
      "394/394 [==============================] - 4s 11ms/step - loss: 0.0659 - accuracy: 0.9784 - val_loss: 0.0808 - val_accuracy: 0.9787\n"
     ]
    },
    {
     "data": {
      "text/plain": [
       "<keras.callbacks.History at 0x7f3403ceb650>"
      ]
     },
     "execution_count": 23,
     "metadata": {},
     "output_type": "execute_result"
    }
   ],
   "source": [
    "model_adam2 = Sequential()\n",
    "model_adam2.add(Dense(256, Activation('relu'), input_shape=(784,)))\n",
    "model_adam2.add(Dropout(0.45))\n",
    "model_adam2.add(Dense(512, Activation('tanh')))\n",
    "model_adam2.add(Dense(10, Activation('softmax')))\n",
    "\n",
    "adam = optimizers.Adam(lr=0.001, beta_1=0.9, beta_2=0.999, epsilon=1e-08, decay=0.0)\n",
    "model_adam2.compile(loss='categorical_crossentropy', optimizer=adam, metrics=['accuracy'])\n",
    "\n",
    "model_adam2.fit(X_train, Y_train, batch_size=128, epochs=10, validation_split=0.16, verbose=1)"
   ]
  },
  {
   "cell_type": "code",
   "execution_count": 24,
   "metadata": {
    "colab": {
     "base_uri": "https://localhost:8080/"
    },
    "id": "isTvxAl4utmJ",
    "outputId": "5e1b51c7-a301-4c48-fc2a-50e228ebb832"
   },
   "outputs": [
    {
     "name": "stdout",
     "output_type": "stream",
     "text": [
      "313/313 [==============================] - 1s 4ms/step - loss: 0.0781 - accuracy: 0.9780\n",
      "Test accuracy Adam Optimizer - Architecture 2: 97.79999852180481\n"
     ]
    }
   ],
   "source": [
    "# Accuracy obtained from Architecture 2\n",
    "\n",
    "score = model_adam2.evaluate(X_test, Y_test)\n",
    "print('Test accuracy Adam Optimizer - Architecture 2:', score[1]*100)"
   ]
  },
  {
   "cell_type": "markdown",
   "metadata": {
    "id": "LGHAGnomu2Xv"
   },
   "source": [
    "Architecture 3"
   ]
  },
  {
   "cell_type": "code",
   "execution_count": 22,
   "metadata": {
    "colab": {
     "base_uri": "https://localhost:8080/"
    },
    "id": "V7Fq8umpu4_O",
    "outputId": "422f0b62-f7a4-455b-d21b-f51a401c3791"
   },
   "outputs": [
    {
     "name": "stdout",
     "output_type": "stream",
     "text": [
      "Epoch 1/10\n"
     ]
    },
    {
     "name": "stderr",
     "output_type": "stream",
     "text": [
      "/usr/local/lib/python3.7/dist-packages/keras/optimizer_v2/adam.py:105: UserWarning: The `lr` argument is deprecated, use `learning_rate` instead.\n",
      "  super(Adam, self).__init__(name, **kwargs)\n"
     ]
    },
    {
     "name": "stdout",
     "output_type": "stream",
     "text": [
      "394/394 [==============================] - 8s 19ms/step - loss: 0.3102 - accuracy: 0.9053 - val_loss: 0.1139 - val_accuracy: 0.9651\n",
      "Epoch 2/10\n",
      "394/394 [==============================] - 7s 18ms/step - loss: 0.1212 - accuracy: 0.9629 - val_loss: 0.0917 - val_accuracy: 0.9729\n",
      "Epoch 3/10\n",
      "394/394 [==============================] - 9s 23ms/step - loss: 0.0872 - accuracy: 0.9726 - val_loss: 0.0858 - val_accuracy: 0.9760\n",
      "Epoch 4/10\n",
      "394/394 [==============================] - 7s 18ms/step - loss: 0.0716 - accuracy: 0.9774 - val_loss: 0.0831 - val_accuracy: 0.9768\n",
      "Epoch 5/10\n",
      "394/394 [==============================] - 7s 18ms/step - loss: 0.0573 - accuracy: 0.9816 - val_loss: 0.0833 - val_accuracy: 0.9765\n",
      "Epoch 6/10\n",
      "394/394 [==============================] - 7s 18ms/step - loss: 0.0557 - accuracy: 0.9820 - val_loss: 0.0904 - val_accuracy: 0.9750\n",
      "Epoch 7/10\n",
      "394/394 [==============================] - 7s 18ms/step - loss: 0.0458 - accuracy: 0.9844 - val_loss: 0.0877 - val_accuracy: 0.9774\n",
      "Epoch 8/10\n",
      "394/394 [==============================] - 7s 18ms/step - loss: 0.0392 - accuracy: 0.9872 - val_loss: 0.0865 - val_accuracy: 0.9783\n",
      "Epoch 9/10\n",
      "394/394 [==============================] - 7s 18ms/step - loss: 0.0389 - accuracy: 0.9873 - val_loss: 0.0892 - val_accuracy: 0.9777\n",
      "Epoch 10/10\n",
      "394/394 [==============================] - 7s 18ms/step - loss: 0.0325 - accuracy: 0.9892 - val_loss: 0.0876 - val_accuracy: 0.9775\n"
     ]
    },
    {
     "data": {
      "text/plain": [
       "<keras.callbacks.History at 0x7f3403f62d50>"
      ]
     },
     "execution_count": 22,
     "metadata": {},
     "output_type": "execute_result"
    }
   ],
   "source": [
    "model_adam3 = Sequential()\n",
    "model_adam3.add(Dense(256, Activation('relu'), input_shape=(784,)))\n",
    "model_adam3.add(Dropout(0.2))\n",
    "model_adam3.add(Dense(512, Activation('tanh')))\n",
    "model_adam3.add(Dense(512, Activation('sigmoid')))\n",
    "model_adam3.add(Dense(10, Activation('softmax')))\n",
    "\n",
    "adam = optimizers.Adam(lr=0.001, beta_1=0.9, beta_2=0.999, epsilon=1e-08, decay=0.0)\n",
    "model_adam3.compile(loss='categorical_crossentropy', optimizer=adam, metrics=['accuracy'])\n",
    "\n",
    "model_adam3.fit(X_train, Y_train, batch_size=128, epochs=10, validation_split=0.16, verbose=1)"
   ]
  },
  {
   "cell_type": "code",
   "execution_count": 25,
   "metadata": {
    "colab": {
     "base_uri": "https://localhost:8080/"
    },
    "id": "kZdmYG7XvYIo",
    "outputId": "1623ecb9-1c8e-42ea-96df-86a5978224fa"
   },
   "outputs": [
    {
     "name": "stdout",
     "output_type": "stream",
     "text": [
      "313/313 [==============================] - 2s 5ms/step - loss: 0.0743 - accuracy: 0.9806\n",
      "Test accuracy Adam Optimizer - Architecture 3: 98.05999994277954\n"
     ]
    }
   ],
   "source": [
    "# Accuracy obtained from Architecture 3\n",
    "\n",
    "score = model_adam3.evaluate(X_test, Y_test)\n",
    "print('Test accuracy Adam Optimizer - Architecture 3:', score[1]*100)"
   ]
  }
 ],
 "metadata": {
  "colab": {
   "name": "Assignment_5_mnist_3_029357001.ipynb",
   "provenance": []
  },
  "kernelspec": {
   "display_name": "Python 3 (ipykernel)",
   "language": "python",
   "name": "python3"
  },
  "language_info": {
   "codemirror_mode": {
    "name": "ipython",
    "version": 3
   },
   "file_extension": ".py",
   "mimetype": "text/x-python",
   "name": "python",
   "nbconvert_exporter": "python",
   "pygments_lexer": "ipython3",
   "version": "3.9.7"
  }
 },
 "nbformat": 4,
 "nbformat_minor": 1
}
