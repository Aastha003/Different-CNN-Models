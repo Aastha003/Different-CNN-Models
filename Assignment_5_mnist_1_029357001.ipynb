{
  "cells": [
    {
      "cell_type": "markdown",
      "source": [
        "\n",
        "\n",
        "```\n",
        "# a) Design neural networks and implement them.\n",
        "• Find Assignment 5 mnist.ipynb and mnist.zip.\n",
        "• train X and test X are list of intensities in 8-bit gray scale of 28 × 28 images.\n",
        "• train y and test y are list of integers which are the classes of the correspond\u0002ing images.\n",
        "• The objective of the networks is classifying images into 0 to 9.\n",
        "(b) Split the training dataset into sub training and validation sets randomly. Use 1/6 of training dataset as validation set. Use the ‘accuracy’ as metric. Please repeat 10 times of random split for each hyper-parameters and architecture, and aggregate\n",
        "(average) the accuracy.\n",
        "\n",
        "```\n",
        "\n"
      ],
      "metadata": {
        "id": "WSNcew_5ckyH"
      }
    },
    {
      "cell_type": "code",
      "execution_count": 24,
      "metadata": {
        "id": "ytO-Q5Nd4DUc"
      },
      "outputs": [],
      "source": [
        "#from mnist import MNIST\n",
        "import os\n",
        "#import numpy as np\n",
        "\n",
        "import numpy as np                   # advanced math library\n",
        "import matplotlib.pyplot as plt      # MATLAB like plotting routines\n",
        "import random                        # for generating random numbers\n",
        "\n",
        "from keras.datasets import mnist     # MNIST dataset is included in Keras\n",
        "from keras.models import Sequential  # Model type to be used\n",
        "\n",
        "from keras.layers.core import Dense, Dropout, Activation # Types of layers to be used in our model\n",
        "from keras.utils import np_utils                         # NumPy related tools\n",
        "from keras.preprocessing.image import ImageDataGenerator\n",
        "\n",
        "(X_train, y_train), (X_test, y_test) = mnist.load_data()\n",
        "\n",
        "#mndata = MNIST('mnist')\n",
        "\n",
        "#X_train, y_train = mndata.load_training()\n",
        "#X_test, y_test = mndata.load_testing()\n",
        "\n"
      ]
    },
    {
      "cell_type": "code",
      "execution_count": 25,
      "metadata": {
        "colab": {
          "base_uri": "https://localhost:8080/"
        },
        "id": "j7F-6JDT4DUi",
        "outputId": "87185223-bc5a-43e7-ba71-6403fe9cbb5f"
      },
      "outputs": [
        {
          "output_type": "stream",
          "name": "stdout",
          "text": [
            "Training matrix shape (60000, 784)\n",
            "Testing matrix shape (10000, 784)\n"
          ]
        },
        {
          "output_type": "execute_result",
          "data": {
            "text/plain": [
              "(10000, 784)"
            ]
          },
          "metadata": {},
          "execution_count": 25
        }
      ],
      "source": [
        "X_train = X_train.reshape(60000, 784) # reshape 60,000 28 x 28 matrices into 60,000 784-length vectors.\n",
        "X_test = X_test.reshape(10000, 784)   # reshape 10,000 28 x 28 matrices into 10,000 784-length vectors.\n",
        "\n",
        "X_train = X_train.astype('float32')   # change integers to 32-bit floating point numbers\n",
        "X_test = X_test.astype('float32')\n",
        "\n",
        "X_train /= 255                        # normalize each value for each pixel for the entire vector for each input\n",
        "X_test /= 255\n",
        "\n",
        "print(\"Training matrix shape\", X_train.shape)\n",
        "print(\"Testing matrix shape\", X_test.shape)\n",
        "\n",
        "np.shape(X_test)"
      ]
    },
    {
      "cell_type": "code",
      "source": [
        "nb_classes = 10 # number of unique digits\n",
        "\n",
        "Y_train = np_utils.to_categorical(y_train, nb_classes)\n",
        "Y_test = np_utils.to_categorical(y_test, nb_classes)"
      ],
      "metadata": {
        "id": "j6Cjt4TuQWik"
      },
      "execution_count": 32,
      "outputs": []
    },
    {
      "cell_type": "code",
      "execution_count": 26,
      "metadata": {
        "colab": {
          "base_uri": "https://localhost:8080/",
          "height": 283
        },
        "id": "X1-jdfoa4DUo",
        "outputId": "73362629-bccc-4b23-8270-e7828bdfb120"
      },
      "outputs": [
        {
          "output_type": "display_data",
          "data": {
            "text/plain": [
              "<Figure size 432x288 with 1 Axes>"
            ],
            "image/png": "[encoded data removed]"
          },
          "metadata": {
            "needs_background": "light"
          }
        },
        {
          "output_type": "stream",
          "name": "stdout",
          "text": [
            "3\n"
          ]
        }
      ],
      "source": [
        "import matplotlib.pyplot as plt\n",
        "import numpy as np\n",
        "\n",
        "id = 7\n",
        "\n",
        "image = np.array(X_train[id], dtype='float')\n",
        "pixels = image.reshape((28, 28))\n",
        "plt.imshow(pixels, cmap='gray')\n",
        "plt.show()\n",
        "\n",
        "# print(X_train[id])\n",
        "print(y_train[id])"
      ]
    },
    {
      "cell_type": "code",
      "source": [
        ""
      ],
      "metadata": {
        "id": "gqJJykURbgrX"
      },
      "execution_count": null,
      "outputs": []
    },
    {
      "cell_type": "markdown",
      "source": [
        "\n",
        "\n",
        "```\n",
        "# Average Accuracy Calculation\n",
        "```\n",
        "\n"
      ],
      "metadata": {
        "id": "36sg5_dGcr7H"
      }
    },
    {
      "cell_type": "markdown",
      "source": [
        "Average Accuracy for SGD Optimizer - Hyperparameters"
      ],
      "metadata": {
        "id": "Cy56A03WRSfq"
      }
    },
    {
      "cell_type": "code",
      "execution_count": 40,
      "metadata": {
        "colab": {
          "base_uri": "https://localhost:8080/"
        },
        "id": "HbRQVOWK4DUs",
        "outputId": "bcbfa393-70b8-4fde-e353-8d2a715ca30c"
      },
      "outputs": [
        {
          "output_type": "stream",
          "name": "stdout",
          "text": [
            "Epoch 1/10\n"
          ]
        },
        {
          "output_type": "stream",
          "name": "stderr",
          "text": [
            "/usr/local/lib/python3.7/dist-packages/keras/optimizer_v2/gradient_descent.py:102: UserWarning: The `lr` argument is deprecated, use `learning_rate` instead.\n",
            "  super(SGD, self).__init__(name, **kwargs)\n"
          ]
        },
        {
          "output_type": "stream",
          "name": "stdout",
          "text": [
            "394/394 [==============================] - 2s 4ms/step - loss: 1.3515 - accuracy: 0.6448 - val_loss: 0.7856 - val_accuracy: 0.8277\n",
            "Epoch 2/10\n",
            "394/394 [==============================] - 1s 3ms/step - loss: 0.6804 - accuracy: 0.8312 - val_loss: 0.5244 - val_accuracy: 0.8704\n",
            "Epoch 3/10\n",
            "394/394 [==============================] - 1s 3ms/step - loss: 0.5218 - accuracy: 0.8655 - val_loss: 0.4307 - val_accuracy: 0.8901\n",
            "Epoch 4/10\n",
            "394/394 [==============================] - 1s 3ms/step - loss: 0.4524 - accuracy: 0.8792 - val_loss: 0.3851 - val_accuracy: 0.8982\n",
            "Epoch 5/10\n",
            "394/394 [==============================] - 1s 3ms/step - loss: 0.4132 - accuracy: 0.8882 - val_loss: 0.3574 - val_accuracy: 0.9035\n",
            "Epoch 6/10\n",
            "394/394 [==============================] - 1s 3ms/step - loss: 0.3876 - accuracy: 0.8933 - val_loss: 0.3392 - val_accuracy: 0.9060\n",
            "Epoch 7/10\n",
            "394/394 [==============================] - 1s 3ms/step - loss: 0.3691 - accuracy: 0.8970 - val_loss: 0.3244 - val_accuracy: 0.9105\n",
            "Epoch 8/10\n",
            "394/394 [==============================] - 1s 3ms/step - loss: 0.3547 - accuracy: 0.9010 - val_loss: 0.3133 - val_accuracy: 0.9134\n",
            "Epoch 9/10\n",
            "394/394 [==============================] - 1s 3ms/step - loss: 0.3430 - accuracy: 0.9039 - val_loss: 0.3046 - val_accuracy: 0.9156\n",
            "Epoch 10/10\n",
            "394/394 [==============================] - 1s 3ms/step - loss: 0.3330 - accuracy: 0.9066 - val_loss: 0.2978 - val_accuracy: 0.9185\n",
            "313/313 [==============================] - 1s 2ms/step - loss: 0.3107 - accuracy: 0.9153\n",
            "Test score: 0.3107348382472992\n",
            "Test accuracy: 0.9153000116348267\n"
          ]
        }
      ],
      "source": [
        "from tensorflow.keras import optimizers\n",
        "\n",
        "acc_sgd = 0\n",
        "count = 0\n",
        "model = Sequential()\n",
        "model.add(Dense(32, Activation('relu'), input_shape=(784,)))\n",
        "model.add(Dense(10, Activation('softmax')))\n",
        "\n",
        "sgd = optimizers.SGD(lr=0.01)\n",
        "model.compile(loss='categorical_crossentropy', optimizer=sgd, metrics=['accuracy'])\n",
        "\n",
        "model.fit(X_train, Y_train, batch_size=128, epochs=10, validation_split=0.16, verbose=1)\n",
        "\n",
        "score = model.evaluate(X_test, Y_test)\n",
        "print('Test score:', score[0])\n",
        "print('Test accuracy:', score[1])\n",
        "\n",
        "acc_sgd += score[1]\n",
        "count += 1"
      ]
    },
    {
      "cell_type": "code",
      "source": [
        "model = Sequential()\n",
        "model.add(Dense(32, Activation('relu'), input_shape=(784,)))\n",
        "model.add(Dense(10, Activation('softmax')))\n",
        "\n",
        "sgd = optimizers.SGD(decay=1e-6)\n",
        "model.compile(loss='categorical_crossentropy', optimizer=sgd, metrics=['accuracy'])\n",
        "\n",
        "model.fit(X_train, Y_train, batch_size=128, epochs=10, validation_split=0.16, verbose=1)\n",
        "\n",
        "score = model.evaluate(X_test, Y_test)\n",
        "print('Test score:', score[0])\n",
        "print('Test accuracy:', score[1])\n",
        "\n",
        "acc_sgd += score[1]\n",
        "count += 1"
      ],
      "metadata": {
        "colab": {
          "base_uri": "https://localhost:8080/"
        },
        "id": "1Kgkg8eISCfo",
        "outputId": "0ef7dedc-e1d3-4892-95ca-374dc2808c08"
      },
      "execution_count": 41,
      "outputs": [
        {
          "output_type": "stream",
          "name": "stdout",
          "text": [
            "Epoch 1/10\n",
            "394/394 [==============================] - 3s 6ms/step - loss: 1.4163 - accuracy: 0.6321 - val_loss: 0.7890 - val_accuracy: 0.8351\n",
            "Epoch 2/10\n",
            "394/394 [==============================] - 1s 4ms/step - loss: 0.6701 - accuracy: 0.8412 - val_loss: 0.5121 - val_accuracy: 0.8783\n",
            "Epoch 3/10\n",
            "394/394 [==============================] - 1s 3ms/step - loss: 0.5132 - accuracy: 0.8673 - val_loss: 0.4257 - val_accuracy: 0.8913\n",
            "Epoch 4/10\n",
            "394/394 [==============================] - 1s 3ms/step - loss: 0.4487 - accuracy: 0.8787 - val_loss: 0.3814 - val_accuracy: 0.9015\n",
            "Epoch 5/10\n",
            "394/394 [==============================] - 1s 3ms/step - loss: 0.4123 - accuracy: 0.8862 - val_loss: 0.3557 - val_accuracy: 0.9057\n",
            "Epoch 6/10\n",
            "394/394 [==============================] - 1s 3ms/step - loss: 0.3885 - accuracy: 0.8923 - val_loss: 0.3374 - val_accuracy: 0.9071\n",
            "Epoch 7/10\n",
            "394/394 [==============================] - 1s 3ms/step - loss: 0.3710 - accuracy: 0.8964 - val_loss: 0.3240 - val_accuracy: 0.9103\n",
            "Epoch 8/10\n",
            "394/394 [==============================] - 1s 3ms/step - loss: 0.3570 - accuracy: 0.8995 - val_loss: 0.3146 - val_accuracy: 0.9123\n",
            "Epoch 9/10\n",
            "394/394 [==============================] - 1s 3ms/step - loss: 0.3457 - accuracy: 0.9024 - val_loss: 0.3047 - val_accuracy: 0.9136\n",
            "Epoch 10/10\n",
            "394/394 [==============================] - 1s 3ms/step - loss: 0.3361 - accuracy: 0.9052 - val_loss: 0.2976 - val_accuracy: 0.9145\n",
            "313/313 [==============================] - 1s 2ms/step - loss: 0.3121 - accuracy: 0.9144\n",
            "Test score: 0.31213074922561646\n",
            "Test accuracy: 0.9143999814987183\n"
          ]
        }
      ]
    },
    {
      "cell_type": "code",
      "source": [
        "model = Sequential()\n",
        "model.add(Dense(32, Activation('relu'), input_shape=(784,)))\n",
        "model.add(Dense(10, Activation('softmax')))\n",
        "\n",
        "sgd = optimizers.SGD(momentum=0.9)\n",
        "model.compile(loss='categorical_crossentropy', optimizer=sgd, metrics=['accuracy'])\n",
        "\n",
        "model.fit(X_train, Y_train, batch_size=128, epochs=10, validation_split=0.16, verbose=1)\n",
        "\n",
        "score = model.evaluate(X_test, Y_test)\n",
        "print('Test score:', score[0])\n",
        "print('Test accuracy:', score[1])\n",
        "\n",
        "acc_sgd += score[1]\n",
        "count += 1"
      ],
      "metadata": {
        "colab": {
          "base_uri": "https://localhost:8080/"
        },
        "id": "xGxNQ-PcSDcG",
        "outputId": "77232e9d-a2d1-457b-b3ff-ddf38883bb09"
      },
      "execution_count": 42,
      "outputs": [
        {
          "output_type": "stream",
          "name": "stdout",
          "text": [
            "Epoch 1/10\n",
            "394/394 [==============================] - 2s 4ms/step - loss: 0.5819 - accuracy: 0.8370 - val_loss: 0.2965 - val_accuracy: 0.9173\n",
            "Epoch 2/10\n",
            "394/394 [==============================] - 1s 3ms/step - loss: 0.3055 - accuracy: 0.9133 - val_loss: 0.2504 - val_accuracy: 0.9290\n",
            "Epoch 3/10\n",
            "394/394 [==============================] - 1s 3ms/step - loss: 0.2662 - accuracy: 0.9249 - val_loss: 0.2316 - val_accuracy: 0.9327\n",
            "Epoch 4/10\n",
            "394/394 [==============================] - 1s 3ms/step - loss: 0.2388 - accuracy: 0.9319 - val_loss: 0.2122 - val_accuracy: 0.9401\n",
            "Epoch 5/10\n",
            "394/394 [==============================] - 1s 3ms/step - loss: 0.2192 - accuracy: 0.9385 - val_loss: 0.1997 - val_accuracy: 0.9453\n",
            "Epoch 6/10\n",
            "394/394 [==============================] - 1s 3ms/step - loss: 0.2010 - accuracy: 0.9427 - val_loss: 0.1849 - val_accuracy: 0.9496\n",
            "Epoch 7/10\n",
            "394/394 [==============================] - 1s 3ms/step - loss: 0.1850 - accuracy: 0.9479 - val_loss: 0.1777 - val_accuracy: 0.9503\n",
            "Epoch 8/10\n",
            "394/394 [==============================] - 1s 3ms/step - loss: 0.1718 - accuracy: 0.9509 - val_loss: 0.1712 - val_accuracy: 0.9540\n",
            "Epoch 9/10\n",
            "394/394 [==============================] - 1s 3ms/step - loss: 0.1610 - accuracy: 0.9541 - val_loss: 0.1649 - val_accuracy: 0.9529\n",
            "Epoch 10/10\n",
            "394/394 [==============================] - 1s 3ms/step - loss: 0.1509 - accuracy: 0.9563 - val_loss: 0.1554 - val_accuracy: 0.9571\n",
            "313/313 [==============================] - 1s 2ms/step - loss: 0.1518 - accuracy: 0.9549\n",
            "Test score: 0.15184050798416138\n",
            "Test accuracy: 0.9549000263214111\n"
          ]
        }
      ]
    },
    {
      "cell_type": "code",
      "source": [
        "model = Sequential()\n",
        "model.add(Dense(32, Activation('relu'), input_shape=(784,)))\n",
        "model.add(Dense(10, Activation('softmax')))\n",
        "\n",
        "sgd = optimizers.SGD(nesterov=True)\n",
        "model.compile(loss='categorical_crossentropy', optimizer=sgd, metrics=['accuracy'])\n",
        "\n",
        "model.fit(X_train, Y_train, batch_size=128, epochs=10, validation_split=0.16, verbose=1)\n",
        "\n",
        "score = model.evaluate(X_test, Y_test)\n",
        "print('Test score:', score[0])\n",
        "print('Test accuracy:', score[1])\n",
        "\n",
        "acc_sgd += score[1]\n",
        "count += 1"
      ],
      "metadata": {
        "colab": {
          "base_uri": "https://localhost:8080/"
        },
        "id": "cmfC3JhwSEVE",
        "outputId": "f8bbd9bf-3e27-4d7e-b4e4-36d613a24db3"
      },
      "execution_count": 43,
      "outputs": [
        {
          "output_type": "stream",
          "name": "stdout",
          "text": [
            "Epoch 1/10\n",
            "394/394 [==============================] - 2s 4ms/step - loss: 1.4702 - accuracy: 0.5904 - val_loss: 0.8257 - val_accuracy: 0.8283\n",
            "Epoch 2/10\n",
            "394/394 [==============================] - 1s 3ms/step - loss: 0.6866 - accuracy: 0.8340 - val_loss: 0.5200 - val_accuracy: 0.8718\n",
            "Epoch 3/10\n",
            "394/394 [==============================] - 1s 3ms/step - loss: 0.5154 - accuracy: 0.8674 - val_loss: 0.4263 - val_accuracy: 0.8910\n",
            "Epoch 4/10\n",
            "394/394 [==============================] - 1s 3ms/step - loss: 0.4477 - accuracy: 0.8802 - val_loss: 0.3819 - val_accuracy: 0.8964\n",
            "Epoch 5/10\n",
            "394/394 [==============================] - 1s 3ms/step - loss: 0.4105 - accuracy: 0.8873 - val_loss: 0.3555 - val_accuracy: 0.9021\n",
            "Epoch 6/10\n",
            "394/394 [==============================] - 1s 3ms/step - loss: 0.3864 - accuracy: 0.8925 - val_loss: 0.3371 - val_accuracy: 0.9058\n",
            "Epoch 7/10\n",
            "394/394 [==============================] - 1s 3ms/step - loss: 0.3688 - accuracy: 0.8964 - val_loss: 0.3242 - val_accuracy: 0.9084\n",
            "Epoch 8/10\n",
            "394/394 [==============================] - 1s 3ms/step - loss: 0.3551 - accuracy: 0.8991 - val_loss: 0.3133 - val_accuracy: 0.9112\n",
            "Epoch 9/10\n",
            "394/394 [==============================] - 1s 3ms/step - loss: 0.3439 - accuracy: 0.9024 - val_loss: 0.3045 - val_accuracy: 0.9127\n",
            "Epoch 10/10\n",
            "394/394 [==============================] - 1s 3ms/step - loss: 0.3347 - accuracy: 0.9051 - val_loss: 0.2982 - val_accuracy: 0.9141\n",
            "313/313 [==============================] - 1s 2ms/step - loss: 0.3106 - accuracy: 0.9119\n",
            "Test score: 0.3105754852294922\n",
            "Test accuracy: 0.911899983882904\n"
          ]
        }
      ]
    },
    {
      "cell_type": "code",
      "source": [
        "# The average accuracy for SGD optimizer \n",
        "acc = acc_sgd/count\n",
        "print ('Average Accuracy SGD Optimizer :', acc)"
      ],
      "metadata": {
        "colab": {
          "base_uri": "https://localhost:8080/"
        },
        "id": "l1qfHuPiS_Ym",
        "outputId": "752f2d3e-280e-429c-df32-4fa4bc79f9cf"
      },
      "execution_count": 44,
      "outputs": [
        {
          "output_type": "stream",
          "name": "stdout",
          "text": [
            "Average Accuracy SGD Optimizer : 0.924125000834465\n"
          ]
        }
      ]
    },
    {
      "cell_type": "code",
      "source": [
        ""
      ],
      "metadata": {
        "id": "ULT1Qn8Kbkkk"
      },
      "execution_count": null,
      "outputs": []
    },
    {
      "cell_type": "markdown",
      "source": [
        "Average Accuracy for RMSprop Optimizer - Hyperparameters"
      ],
      "metadata": {
        "id": "YJ61xLthUvQ3"
      }
    },
    {
      "cell_type": "code",
      "source": [
        "acc_rms = 0\n",
        "count = 0\n",
        "model = Sequential()\n",
        "model.add(Dense(32, Activation('relu'), input_shape=(784,)))\n",
        "model.add(Dense(10, Activation('softmax')))\n",
        "\n",
        "rms = optimizers.RMSprop(lr=0.001)\n",
        "model.compile(loss='categorical_crossentropy', optimizer=rms, metrics=['accuracy'])\n",
        "\n",
        "model.fit(X_train, Y_train, batch_size=128, epochs=10, validation_split=0.16, verbose=1)\n",
        "\n",
        "score = model.evaluate(X_test, Y_test)\n",
        "print('Test score:', score[0])\n",
        "print('Test accuracy:', score[1])\n",
        "\n",
        "acc_rms += score[1]\n",
        "count += 1"
      ],
      "metadata": {
        "colab": {
          "base_uri": "https://localhost:8080/"
        },
        "id": "1PJwMlZLX6Wx",
        "outputId": "f9530b0a-1cee-4bc5-f365-8ccdf565941c"
      },
      "execution_count": 45,
      "outputs": [
        {
          "output_type": "stream",
          "name": "stdout",
          "text": [
            "Epoch 1/10\n"
          ]
        },
        {
          "output_type": "stream",
          "name": "stderr",
          "text": [
            "/usr/local/lib/python3.7/dist-packages/keras/optimizer_v2/rmsprop.py:130: UserWarning: The `lr` argument is deprecated, use `learning_rate` instead.\n",
            "  super(RMSprop, self).__init__(name, **kwargs)\n"
          ]
        },
        {
          "output_type": "stream",
          "name": "stdout",
          "text": [
            "394/394 [==============================] - 2s 4ms/step - loss: 0.5030 - accuracy: 0.8686 - val_loss: 0.2613 - val_accuracy: 0.9289\n",
            "Epoch 2/10\n",
            "394/394 [==============================] - 1s 4ms/step - loss: 0.2597 - accuracy: 0.9276 - val_loss: 0.2303 - val_accuracy: 0.9341\n",
            "Epoch 3/10\n",
            "394/394 [==============================] - 1s 4ms/step - loss: 0.2190 - accuracy: 0.9375 - val_loss: 0.1938 - val_accuracy: 0.9466\n",
            "Epoch 4/10\n",
            "394/394 [==============================] - 1s 4ms/step - loss: 0.1947 - accuracy: 0.9449 - val_loss: 0.1778 - val_accuracy: 0.9504\n",
            "Epoch 5/10\n",
            "394/394 [==============================] - 1s 4ms/step - loss: 0.1762 - accuracy: 0.9500 - val_loss: 0.1654 - val_accuracy: 0.9551\n",
            "Epoch 6/10\n",
            "394/394 [==============================] - 1s 3ms/step - loss: 0.1616 - accuracy: 0.9537 - val_loss: 0.1569 - val_accuracy: 0.9564\n",
            "Epoch 7/10\n",
            "394/394 [==============================] - 1s 3ms/step - loss: 0.1502 - accuracy: 0.9572 - val_loss: 0.1549 - val_accuracy: 0.9579\n",
            "Epoch 8/10\n",
            "394/394 [==============================] - 1s 3ms/step - loss: 0.1397 - accuracy: 0.9602 - val_loss: 0.1498 - val_accuracy: 0.9571\n",
            "Epoch 9/10\n",
            "394/394 [==============================] - 1s 3ms/step - loss: 0.1308 - accuracy: 0.9625 - val_loss: 0.1411 - val_accuracy: 0.9606\n",
            "Epoch 10/10\n",
            "394/394 [==============================] - 1s 3ms/step - loss: 0.1229 - accuracy: 0.9647 - val_loss: 0.1344 - val_accuracy: 0.9640\n",
            "313/313 [==============================] - 1s 2ms/step - loss: 0.1362 - accuracy: 0.9601\n",
            "Test score: 0.1362433284521103\n",
            "Test accuracy: 0.960099995136261\n"
          ]
        }
      ]
    },
    {
      "cell_type": "code",
      "source": [
        "model = Sequential()\n",
        "model.add(Dense(32, Activation('relu'), input_shape=(784,)))\n",
        "model.add(Dense(10, Activation('softmax')))\n",
        "\n",
        "rms = optimizers.RMSprop(rho=0.9)\n",
        "model.compile(loss='categorical_crossentropy', optimizer=rms, metrics=['accuracy'])\n",
        "\n",
        "model.fit(X_train, Y_train, batch_size=128, epochs=10, validation_split=0.16, verbose=1)\n",
        "\n",
        "score = model.evaluate(X_test, Y_test)\n",
        "print('Test score:', score[0])\n",
        "print('Test accuracy:', score[1])\n",
        "\n",
        "acc_rms += score[1]\n",
        "count += 1"
      ],
      "metadata": {
        "colab": {
          "base_uri": "https://localhost:8080/"
        },
        "id": "gXp8b6JvY_9h",
        "outputId": "63aaf52a-cb4c-44b0-b3e3-b9fe94f72078"
      },
      "execution_count": 46,
      "outputs": [
        {
          "output_type": "stream",
          "name": "stdout",
          "text": [
            "Epoch 1/10\n",
            "394/394 [==============================] - 2s 4ms/step - loss: 0.5017 - accuracy: 0.8683 - val_loss: 0.2694 - val_accuracy: 0.9260\n",
            "Epoch 2/10\n",
            "394/394 [==============================] - 1s 4ms/step - loss: 0.2647 - accuracy: 0.9255 - val_loss: 0.2157 - val_accuracy: 0.9419\n",
            "Epoch 3/10\n",
            "394/394 [==============================] - 1s 4ms/step - loss: 0.2184 - accuracy: 0.9381 - val_loss: 0.1869 - val_accuracy: 0.9497\n",
            "Epoch 4/10\n",
            "394/394 [==============================] - 1s 3ms/step - loss: 0.1883 - accuracy: 0.9454 - val_loss: 0.1678 - val_accuracy: 0.9540\n",
            "Epoch 5/10\n",
            "394/394 [==============================] - 1s 3ms/step - loss: 0.1678 - accuracy: 0.9516 - val_loss: 0.1579 - val_accuracy: 0.9572\n",
            "Epoch 6/10\n",
            "394/394 [==============================] - 1s 3ms/step - loss: 0.1521 - accuracy: 0.9566 - val_loss: 0.1515 - val_accuracy: 0.9592\n",
            "Epoch 7/10\n",
            "394/394 [==============================] - 1s 3ms/step - loss: 0.1407 - accuracy: 0.9598 - val_loss: 0.1481 - val_accuracy: 0.9591\n",
            "Epoch 8/10\n",
            "394/394 [==============================] - 1s 3ms/step - loss: 0.1314 - accuracy: 0.9614 - val_loss: 0.1488 - val_accuracy: 0.9579\n",
            "Epoch 9/10\n",
            "394/394 [==============================] - 1s 3ms/step - loss: 0.1236 - accuracy: 0.9642 - val_loss: 0.1360 - val_accuracy: 0.9632\n",
            "Epoch 10/10\n",
            "394/394 [==============================] - 1s 3ms/step - loss: 0.1166 - accuracy: 0.9657 - val_loss: 0.1324 - val_accuracy: 0.9634\n",
            "313/313 [==============================] - 1s 2ms/step - loss: 0.1402 - accuracy: 0.9605\n",
            "Test score: 0.14021717011928558\n",
            "Test accuracy: 0.9605000019073486\n"
          ]
        }
      ]
    },
    {
      "cell_type": "code",
      "source": [
        "model = Sequential()\n",
        "model.add(Dense(32, Activation('relu'), input_shape=(784,)))\n",
        "model.add(Dense(10, Activation('softmax')))\n",
        "\n",
        "rms = optimizers.RMSprop(epsilon=1e-08)\n",
        "model.compile(loss='categorical_crossentropy', optimizer=rms, metrics=['accuracy'])\n",
        "\n",
        "model.fit(X_train, Y_train, batch_size=128, epochs=10, validation_split=0.16, verbose=1)\n",
        "\n",
        "score = model.evaluate(X_test, Y_test)\n",
        "print('Test score:', score[0])\n",
        "print('Test accuracy:', score[1])\n",
        "\n",
        "acc_rms += score[1]\n",
        "count += 1"
      ],
      "metadata": {
        "colab": {
          "base_uri": "https://localhost:8080/"
        },
        "id": "SgQs4B7aZNEy",
        "outputId": "4e959b76-aa79-4623-aba2-df2c68c2d040"
      },
      "execution_count": 47,
      "outputs": [
        {
          "output_type": "stream",
          "name": "stdout",
          "text": [
            "Epoch 1/10\n",
            "394/394 [==============================] - 2s 4ms/step - loss: 0.5168 - accuracy: 0.8629 - val_loss: 0.2639 - val_accuracy: 0.9267\n",
            "Epoch 2/10\n",
            "394/394 [==============================] - 1s 3ms/step - loss: 0.2667 - accuracy: 0.9249 - val_loss: 0.2185 - val_accuracy: 0.9406\n",
            "Epoch 3/10\n",
            "394/394 [==============================] - 1s 3ms/step - loss: 0.2230 - accuracy: 0.9368 - val_loss: 0.1915 - val_accuracy: 0.9480\n",
            "Epoch 4/10\n",
            "394/394 [==============================] - 1s 3ms/step - loss: 0.1945 - accuracy: 0.9436 - val_loss: 0.1732 - val_accuracy: 0.9513\n",
            "Epoch 5/10\n",
            "394/394 [==============================] - 1s 3ms/step - loss: 0.1719 - accuracy: 0.9506 - val_loss: 0.1536 - val_accuracy: 0.9560\n",
            "Epoch 6/10\n",
            "394/394 [==============================] - 1s 3ms/step - loss: 0.1550 - accuracy: 0.9557 - val_loss: 0.1452 - val_accuracy: 0.9594\n",
            "Epoch 7/10\n",
            "394/394 [==============================] - 1s 3ms/step - loss: 0.1409 - accuracy: 0.9592 - val_loss: 0.1417 - val_accuracy: 0.9590\n",
            "Epoch 8/10\n",
            "394/394 [==============================] - 1s 3ms/step - loss: 0.1298 - accuracy: 0.9626 - val_loss: 0.1290 - val_accuracy: 0.9631\n",
            "Epoch 9/10\n",
            "394/394 [==============================] - 1s 3ms/step - loss: 0.1203 - accuracy: 0.9650 - val_loss: 0.1267 - val_accuracy: 0.9640\n",
            "Epoch 10/10\n",
            "394/394 [==============================] - 1s 3ms/step - loss: 0.1126 - accuracy: 0.9674 - val_loss: 0.1246 - val_accuracy: 0.9641\n",
            "313/313 [==============================] - 1s 2ms/step - loss: 0.1341 - accuracy: 0.9618\n",
            "Test score: 0.1341148018836975\n",
            "Test accuracy: 0.9617999792098999\n"
          ]
        }
      ]
    },
    {
      "cell_type": "code",
      "source": [
        "model = Sequential()\n",
        "model.add(Dense(32, Activation('relu'), input_shape=(784,)))\n",
        "model.add(Dense(10, Activation('softmax')))\n",
        "\n",
        "rms = optimizers.RMSprop(decay=0.0)\n",
        "model.compile(loss='categorical_crossentropy', optimizer=rms, metrics=['accuracy'])\n",
        "\n",
        "model.fit(X_train, Y_train, batch_size=128, epochs=10, validation_split=0.16, verbose=1)\n",
        "\n",
        "score = model.evaluate(X_test, Y_test)\n",
        "print('Test score:', score[0])\n",
        "print('Test accuracy:', score[1])\n",
        "\n",
        "acc_rms += score[1]\n",
        "count += 1"
      ],
      "metadata": {
        "colab": {
          "base_uri": "https://localhost:8080/"
        },
        "id": "ie6A0819Zfug",
        "outputId": "f50db9b1-f1bc-4d74-b88e-940e306c5c4e"
      },
      "execution_count": 48,
      "outputs": [
        {
          "output_type": "stream",
          "name": "stdout",
          "text": [
            "Epoch 1/10\n",
            "394/394 [==============================] - 2s 4ms/step - loss: 0.5145 - accuracy: 0.8618 - val_loss: 0.2682 - val_accuracy: 0.9248\n",
            "Epoch 2/10\n",
            "394/394 [==============================] - 1s 3ms/step - loss: 0.2710 - accuracy: 0.9223 - val_loss: 0.2175 - val_accuracy: 0.9395\n",
            "Epoch 3/10\n",
            "394/394 [==============================] - 1s 3ms/step - loss: 0.2253 - accuracy: 0.9366 - val_loss: 0.1954 - val_accuracy: 0.9455\n",
            "Epoch 4/10\n",
            "394/394 [==============================] - 1s 3ms/step - loss: 0.1939 - accuracy: 0.9438 - val_loss: 0.1797 - val_accuracy: 0.9475\n",
            "Epoch 5/10\n",
            "394/394 [==============================] - 1s 3ms/step - loss: 0.1728 - accuracy: 0.9505 - val_loss: 0.1626 - val_accuracy: 0.9545\n",
            "Epoch 6/10\n",
            "394/394 [==============================] - 1s 3ms/step - loss: 0.1563 - accuracy: 0.9548 - val_loss: 0.1509 - val_accuracy: 0.9567\n",
            "Epoch 7/10\n",
            "394/394 [==============================] - 1s 3ms/step - loss: 0.1420 - accuracy: 0.9583 - val_loss: 0.1408 - val_accuracy: 0.9602\n",
            "Epoch 8/10\n",
            "394/394 [==============================] - 1s 3ms/step - loss: 0.1308 - accuracy: 0.9616 - val_loss: 0.1401 - val_accuracy: 0.9597\n",
            "Epoch 9/10\n",
            "394/394 [==============================] - 1s 3ms/step - loss: 0.1216 - accuracy: 0.9637 - val_loss: 0.1366 - val_accuracy: 0.9625\n",
            "Epoch 10/10\n",
            "394/394 [==============================] - 1s 3ms/step - loss: 0.1137 - accuracy: 0.9667 - val_loss: 0.1302 - val_accuracy: 0.9642\n",
            "313/313 [==============================] - 1s 2ms/step - loss: 0.1279 - accuracy: 0.9640\n",
            "Test score: 0.12787801027297974\n",
            "Test accuracy: 0.9639999866485596\n"
          ]
        }
      ]
    },
    {
      "cell_type": "code",
      "source": [
        "# The average accuracy for RMSProp optimizer \n",
        "acc = acc_rms/count\n",
        "print ('Average Accuracy RMSprop Optimizer :', acc)"
      ],
      "metadata": {
        "colab": {
          "base_uri": "https://localhost:8080/"
        },
        "id": "Of2gZLflZvmQ",
        "outputId": "b3dd07ca-d4eb-4543-ba49-1fa3fcc231ea"
      },
      "execution_count": 49,
      "outputs": [
        {
          "output_type": "stream",
          "name": "stdout",
          "text": [
            "Average Accuracy RMSprop Optimizer : 0.9615999907255173\n"
          ]
        }
      ]
    },
    {
      "cell_type": "code",
      "source": [
        ""
      ],
      "metadata": {
        "id": "mfZ7Rqqjbnar"
      },
      "execution_count": null,
      "outputs": []
    },
    {
      "cell_type": "markdown",
      "source": [
        "Average Accuracy for Adam Optimizer - Hyperparameters"
      ],
      "metadata": {
        "id": "gNdSfvVxZ2wY"
      }
    },
    {
      "cell_type": "code",
      "source": [
        "acc_adam = 0\n",
        "count = 0\n",
        "model = Sequential()\n",
        "model.add(Dense(32, Activation('relu'), input_shape=(784,)))\n",
        "model.add(Dense(10, Activation('softmax')))\n",
        "\n",
        "adam = optimizers.Adam(lr=0.001)\n",
        "model.compile(loss='categorical_crossentropy', optimizer=adam, metrics=['accuracy'])\n",
        "\n",
        "model.fit(X_train, Y_train, batch_size=128, epochs=10, validation_split=0.16, verbose=1)\n",
        "\n",
        "score = model.evaluate(X_test, Y_test)\n",
        "print('Test score:', score[0])\n",
        "print('Test accuracy:', score[1])\n",
        "\n",
        "acc_adam += score[1]\n",
        "count += 1"
      ],
      "metadata": {
        "colab": {
          "base_uri": "https://localhost:8080/"
        },
        "id": "IOeH1tTzZ-LB",
        "outputId": "f15a15d5-ec76-45fd-c6bd-5e09ca628449"
      },
      "execution_count": 50,
      "outputs": [
        {
          "output_type": "stream",
          "name": "stdout",
          "text": [
            "Epoch 1/10\n"
          ]
        },
        {
          "output_type": "stream",
          "name": "stderr",
          "text": [
            "/usr/local/lib/python3.7/dist-packages/keras/optimizer_v2/adam.py:105: UserWarning: The `lr` argument is deprecated, use `learning_rate` instead.\n",
            "  super(Adam, self).__init__(name, **kwargs)\n"
          ]
        },
        {
          "output_type": "stream",
          "name": "stdout",
          "text": [
            "394/394 [==============================] - 2s 3ms/step - loss: 0.5627 - accuracy: 0.8480 - val_loss: 0.2811 - val_accuracy: 0.9196\n",
            "Epoch 2/10\n",
            "394/394 [==============================] - 1s 3ms/step - loss: 0.2773 - accuracy: 0.9209 - val_loss: 0.2247 - val_accuracy: 0.9341\n",
            "Epoch 3/10\n",
            "394/394 [==============================] - 1s 3ms/step - loss: 0.2306 - accuracy: 0.9333 - val_loss: 0.1962 - val_accuracy: 0.9438\n",
            "Epoch 4/10\n",
            "394/394 [==============================] - 1s 3ms/step - loss: 0.2021 - accuracy: 0.9413 - val_loss: 0.1799 - val_accuracy: 0.9500\n",
            "Epoch 5/10\n",
            "394/394 [==============================] - 1s 3ms/step - loss: 0.1816 - accuracy: 0.9464 - val_loss: 0.1709 - val_accuracy: 0.9513\n",
            "Epoch 6/10\n",
            "394/394 [==============================] - 1s 3ms/step - loss: 0.1654 - accuracy: 0.9517 - val_loss: 0.1557 - val_accuracy: 0.9561\n",
            "Epoch 7/10\n",
            "394/394 [==============================] - 1s 3ms/step - loss: 0.1530 - accuracy: 0.9559 - val_loss: 0.1472 - val_accuracy: 0.9571\n",
            "Epoch 8/10\n",
            "394/394 [==============================] - 1s 3ms/step - loss: 0.1424 - accuracy: 0.9587 - val_loss: 0.1485 - val_accuracy: 0.9563\n",
            "Epoch 9/10\n",
            "394/394 [==============================] - 1s 3ms/step - loss: 0.1334 - accuracy: 0.9610 - val_loss: 0.1386 - val_accuracy: 0.9609\n",
            "Epoch 10/10\n",
            "394/394 [==============================] - 1s 3ms/step - loss: 0.1246 - accuracy: 0.9629 - val_loss: 0.1336 - val_accuracy: 0.9603\n",
            "313/313 [==============================] - 1s 2ms/step - loss: 0.1360 - accuracy: 0.9588\n",
            "Test score: 0.13601480424404144\n",
            "Test accuracy: 0.9588000178337097\n"
          ]
        }
      ]
    },
    {
      "cell_type": "code",
      "source": [
        "model = Sequential()\n",
        "model.add(Dense(32, Activation('relu'), input_shape=(784,)))\n",
        "model.add(Dense(10, Activation('softmax')))\n",
        "\n",
        "adam = optimizers.Adam(beta_1=0.9)\n",
        "model.compile(loss='categorical_crossentropy', optimizer=adam, metrics=['accuracy'])\n",
        "\n",
        "model.fit(X_train, Y_train, batch_size=128, epochs=10, validation_split=0.16, verbose=1)\n",
        "\n",
        "score = model.evaluate(X_test, Y_test)\n",
        "print('Test score:', score[0])\n",
        "print('Test accuracy:', score[1])\n",
        "\n",
        "acc_adam += score[1]\n",
        "count += 1"
      ],
      "metadata": {
        "colab": {
          "base_uri": "https://localhost:8080/"
        },
        "id": "ljMlNJRfajZv",
        "outputId": "2b6c2c99-8fd2-432b-a38a-bb549c5e41b5"
      },
      "execution_count": 51,
      "outputs": [
        {
          "output_type": "stream",
          "name": "stdout",
          "text": [
            "Epoch 1/10\n",
            "394/394 [==============================] - 2s 4ms/step - loss: 0.5619 - accuracy: 0.8487 - val_loss: 0.2886 - val_accuracy: 0.9197\n",
            "Epoch 2/10\n",
            "394/394 [==============================] - 1s 4ms/step - loss: 0.2932 - accuracy: 0.9166 - val_loss: 0.2432 - val_accuracy: 0.9341\n",
            "Epoch 3/10\n",
            "394/394 [==============================] - 1s 4ms/step - loss: 0.2449 - accuracy: 0.9314 - val_loss: 0.2104 - val_accuracy: 0.9404\n",
            "Epoch 4/10\n",
            "394/394 [==============================] - 1s 4ms/step - loss: 0.2097 - accuracy: 0.9407 - val_loss: 0.1867 - val_accuracy: 0.9488\n",
            "Epoch 5/10\n",
            "394/394 [==============================] - 1s 4ms/step - loss: 0.1849 - accuracy: 0.9473 - val_loss: 0.1729 - val_accuracy: 0.9520\n",
            "Epoch 6/10\n",
            "394/394 [==============================] - 1s 4ms/step - loss: 0.1666 - accuracy: 0.9518 - val_loss: 0.1700 - val_accuracy: 0.9530\n",
            "Epoch 7/10\n",
            "394/394 [==============================] - 1s 4ms/step - loss: 0.1516 - accuracy: 0.9570 - val_loss: 0.1551 - val_accuracy: 0.9568\n",
            "Epoch 8/10\n",
            "394/394 [==============================] - 1s 4ms/step - loss: 0.1399 - accuracy: 0.9608 - val_loss: 0.1502 - val_accuracy: 0.9574\n",
            "Epoch 9/10\n",
            "394/394 [==============================] - 1s 3ms/step - loss: 0.1296 - accuracy: 0.9622 - val_loss: 0.1457 - val_accuracy: 0.9586\n",
            "Epoch 10/10\n",
            "394/394 [==============================] - 1s 3ms/step - loss: 0.1201 - accuracy: 0.9653 - val_loss: 0.1344 - val_accuracy: 0.9607\n",
            "313/313 [==============================] - 1s 2ms/step - loss: 0.1391 - accuracy: 0.9598\n",
            "Test score: 0.13912515342235565\n",
            "Test accuracy: 0.9598000049591064\n"
          ]
        }
      ]
    },
    {
      "cell_type": "code",
      "source": [
        "model = Sequential()\n",
        "model.add(Dense(32, Activation('relu'), input_shape=(784,)))\n",
        "model.add(Dense(10, Activation('softmax')))\n",
        "\n",
        "adam = optimizers.Adam(beta_2=0.999)\n",
        "model.compile(loss='categorical_crossentropy', optimizer=adam, metrics=['accuracy'])\n",
        "\n",
        "model.fit(X_train, Y_train, batch_size=128, epochs=10, validation_split=0.16, verbose=1)\n",
        "\n",
        "score = model.evaluate(X_test, Y_test)\n",
        "print('Test score:', score[0])\n",
        "print('Test accuracy:', score[1])\n",
        "\n",
        "acc_adam += score[1]\n",
        "count += 1"
      ],
      "metadata": {
        "colab": {
          "base_uri": "https://localhost:8080/"
        },
        "id": "N7aUsfx7a4R6",
        "outputId": "098ce77e-f3f0-4e29-8ed4-d606178f57a5"
      },
      "execution_count": 52,
      "outputs": [
        {
          "output_type": "stream",
          "name": "stdout",
          "text": [
            "Epoch 1/10\n",
            "394/394 [==============================] - 2s 4ms/step - loss: 0.5486 - accuracy: 0.8505 - val_loss: 0.2630 - val_accuracy: 0.9293\n",
            "Epoch 2/10\n",
            "394/394 [==============================] - 1s 4ms/step - loss: 0.2578 - accuracy: 0.9272 - val_loss: 0.2066 - val_accuracy: 0.9438\n",
            "Epoch 3/10\n",
            "394/394 [==============================] - 1s 4ms/step - loss: 0.2092 - accuracy: 0.9413 - val_loss: 0.1775 - val_accuracy: 0.9508\n",
            "Epoch 4/10\n",
            "394/394 [==============================] - 1s 3ms/step - loss: 0.1802 - accuracy: 0.9489 - val_loss: 0.1683 - val_accuracy: 0.9520\n",
            "Epoch 5/10\n",
            "394/394 [==============================] - 1s 4ms/step - loss: 0.1611 - accuracy: 0.9536 - val_loss: 0.1561 - val_accuracy: 0.9544\n",
            "Epoch 6/10\n",
            "394/394 [==============================] - 1s 3ms/step - loss: 0.1466 - accuracy: 0.9583 - val_loss: 0.1478 - val_accuracy: 0.9567\n",
            "Epoch 7/10\n",
            "394/394 [==============================] - 1s 3ms/step - loss: 0.1349 - accuracy: 0.9614 - val_loss: 0.1396 - val_accuracy: 0.9580\n",
            "Epoch 8/10\n",
            "394/394 [==============================] - 1s 3ms/step - loss: 0.1257 - accuracy: 0.9643 - val_loss: 0.1318 - val_accuracy: 0.9599\n",
            "Epoch 9/10\n",
            "394/394 [==============================] - 1s 3ms/step - loss: 0.1179 - accuracy: 0.9659 - val_loss: 0.1298 - val_accuracy: 0.9625\n",
            "Epoch 10/10\n",
            "394/394 [==============================] - 1s 3ms/step - loss: 0.1105 - accuracy: 0.9682 - val_loss: 0.1262 - val_accuracy: 0.9627\n",
            "313/313 [==============================] - 1s 2ms/step - loss: 0.1285 - accuracy: 0.9614\n",
            "Test score: 0.12854641675949097\n",
            "Test accuracy: 0.9613999724388123\n"
          ]
        }
      ]
    },
    {
      "cell_type": "code",
      "source": [
        "model = Sequential()\n",
        "model.add(Dense(32, Activation('relu'), input_shape=(784,)))\n",
        "model.add(Dense(10, Activation('softmax')))\n",
        "\n",
        "adam = optimizers.Adam(epsilon=1e-08)\n",
        "model.compile(loss='categorical_crossentropy', optimizer=adam, metrics=['accuracy'])\n",
        "\n",
        "model.fit(X_train, Y_train, batch_size=128, epochs=10, validation_split=0.16, verbose=1)\n",
        "\n",
        "score = model.evaluate(X_test, Y_test)\n",
        "print('Test score:', score[0])\n",
        "print('Test accuracy:', score[1])\n",
        "\n",
        "acc_adam += score[1]\n",
        "count += 1"
      ],
      "metadata": {
        "colab": {
          "base_uri": "https://localhost:8080/"
        },
        "id": "uiCBa-7qbqWN",
        "outputId": "1741b7b6-7d3c-47ef-fcb2-d1441d1f8eef"
      },
      "execution_count": 53,
      "outputs": [
        {
          "output_type": "stream",
          "name": "stdout",
          "text": [
            "Epoch 1/10\n",
            "394/394 [==============================] - 2s 4ms/step - loss: 0.5516 - accuracy: 0.8493 - val_loss: 0.2666 - val_accuracy: 0.9252\n",
            "Epoch 2/10\n",
            "394/394 [==============================] - 1s 3ms/step - loss: 0.2610 - accuracy: 0.9262 - val_loss: 0.2153 - val_accuracy: 0.9380\n",
            "Epoch 3/10\n",
            "394/394 [==============================] - 1s 3ms/step - loss: 0.2152 - accuracy: 0.9384 - val_loss: 0.1857 - val_accuracy: 0.9480\n",
            "Epoch 4/10\n",
            "394/394 [==============================] - 1s 3ms/step - loss: 0.1863 - accuracy: 0.9465 - val_loss: 0.1712 - val_accuracy: 0.9524\n",
            "Epoch 5/10\n",
            "394/394 [==============================] - 1s 4ms/step - loss: 0.1674 - accuracy: 0.9518 - val_loss: 0.1554 - val_accuracy: 0.9561\n",
            "Epoch 6/10\n",
            "394/394 [==============================] - 1s 3ms/step - loss: 0.1522 - accuracy: 0.9557 - val_loss: 0.1530 - val_accuracy: 0.9556\n",
            "Epoch 7/10\n",
            "394/394 [==============================] - 1s 4ms/step - loss: 0.1391 - accuracy: 0.9592 - val_loss: 0.1438 - val_accuracy: 0.9578\n",
            "Epoch 8/10\n",
            "394/394 [==============================] - 1s 4ms/step - loss: 0.1291 - accuracy: 0.9625 - val_loss: 0.1330 - val_accuracy: 0.9610\n",
            "Epoch 9/10\n",
            "394/394 [==============================] - 1s 3ms/step - loss: 0.1206 - accuracy: 0.9646 - val_loss: 0.1269 - val_accuracy: 0.9608\n",
            "Epoch 10/10\n",
            "394/394 [==============================] - 2s 4ms/step - loss: 0.1114 - accuracy: 0.9677 - val_loss: 0.1225 - val_accuracy: 0.9638\n",
            "313/313 [==============================] - 1s 2ms/step - loss: 0.1282 - accuracy: 0.9611\n",
            "Test score: 0.1282452493906021\n",
            "Test accuracy: 0.9610999822616577\n"
          ]
        }
      ]
    },
    {
      "cell_type": "code",
      "source": [
        "# The average accuracy for Adam optimizer \n",
        "acc = acc_adam/count\n",
        "print ('Average Accuracy Adam Optimizer :', acc)"
      ],
      "metadata": {
        "colab": {
          "base_uri": "https://localhost:8080/"
        },
        "id": "GxcybeR1b41U",
        "outputId": "3309e132-25d0-4689-9a8f-ab024507f0cd"
      },
      "execution_count": 54,
      "outputs": [
        {
          "output_type": "stream",
          "name": "stdout",
          "text": [
            "Average Accuracy Adam Optimizer : 0.9602749943733215\n"
          ]
        }
      ]
    },
    {
      "cell_type": "code",
      "source": [
        ""
      ],
      "metadata": {
        "id": "Hg-79vFecCbZ"
      },
      "execution_count": null,
      "outputs": []
    },
    {
      "cell_type": "markdown",
      "source": [
        "Average Accuracy for Adagrad Optimizer - Hyperparameters"
      ],
      "metadata": {
        "id": "rBk8sROXcDTS"
      }
    },
    {
      "cell_type": "code",
      "source": [
        "acc_adagrad = 0\n",
        "count = 0\n",
        "model = Sequential()\n",
        "model.add(Dense(32, Activation('relu'), input_shape=(784,)))\n",
        "model.add(Dense(10, Activation('softmax')))\n",
        "\n",
        "adagrad = optimizers.Adagrad(lr=0.001)\n",
        "model.compile(loss='categorical_crossentropy', optimizer=adagrad, metrics=['accuracy'])\n",
        "\n",
        "model.fit(X_train, Y_train, batch_size=128, epochs=10, validation_split=0.16, verbose=1)\n",
        "\n",
        "score = model.evaluate(X_test, Y_test)\n",
        "print('Test score:', score[0])\n",
        "print('Test accuracy:', score[1])\n",
        "\n",
        "acc_adagrad += score[1]\n",
        "count += 1"
      ],
      "metadata": {
        "colab": {
          "base_uri": "https://localhost:8080/"
        },
        "id": "G45HN1AecKWm",
        "outputId": "7701831a-36a3-4241-885e-bb839c151aec"
      },
      "execution_count": 56,
      "outputs": [
        {
          "output_type": "stream",
          "name": "stdout",
          "text": [
            "Epoch 1/10\n"
          ]
        },
        {
          "output_type": "stream",
          "name": "stderr",
          "text": [
            "/usr/local/lib/python3.7/dist-packages/keras/optimizer_v2/adagrad.py:74: UserWarning: The `lr` argument is deprecated, use `learning_rate` instead.\n",
            "  super(Adagrad, self).__init__(name, **kwargs)\n"
          ]
        },
        {
          "output_type": "stream",
          "name": "stdout",
          "text": [
            "394/394 [==============================] - 2s 4ms/step - loss: 1.9971 - accuracy: 0.3850 - val_loss: 1.6911 - val_accuracy: 0.5976\n",
            "Epoch 2/10\n",
            "394/394 [==============================] - 1s 4ms/step - loss: 1.4912 - accuracy: 0.6661 - val_loss: 1.2817 - val_accuracy: 0.7435\n",
            "Epoch 3/10\n",
            "394/394 [==============================] - 1s 3ms/step - loss: 1.1881 - accuracy: 0.7453 - val_loss: 1.0408 - val_accuracy: 0.7908\n",
            "Epoch 4/10\n",
            "394/394 [==============================] - 1s 3ms/step - loss: 1.0045 - accuracy: 0.7823 - val_loss: 0.8916 - val_accuracy: 0.8208\n",
            "Epoch 5/10\n",
            "394/394 [==============================] - 1s 3ms/step - loss: 0.8863 - accuracy: 0.8058 - val_loss: 0.7917 - val_accuracy: 0.8369\n",
            "Epoch 6/10\n",
            "394/394 [==============================] - 1s 3ms/step - loss: 0.8039 - accuracy: 0.8202 - val_loss: 0.7203 - val_accuracy: 0.8480\n",
            "Epoch 7/10\n",
            "394/394 [==============================] - 1s 3ms/step - loss: 0.7428 - accuracy: 0.8303 - val_loss: 0.6663 - val_accuracy: 0.8558\n",
            "Epoch 8/10\n",
            "394/394 [==============================] - 1s 3ms/step - loss: 0.6954 - accuracy: 0.8386 - val_loss: 0.6241 - val_accuracy: 0.8634\n",
            "Epoch 9/10\n",
            "394/394 [==============================] - 1s 3ms/step - loss: 0.6575 - accuracy: 0.8455 - val_loss: 0.5901 - val_accuracy: 0.8692\n",
            "Epoch 10/10\n",
            "394/394 [==============================] - 1s 3ms/step - loss: 0.6264 - accuracy: 0.8512 - val_loss: 0.5621 - val_accuracy: 0.8723\n",
            "313/313 [==============================] - 1s 2ms/step - loss: 0.5832 - accuracy: 0.8673\n",
            "Test score: 0.58321613073349\n",
            "Test accuracy: 0.8672999739646912\n"
          ]
        }
      ]
    },
    {
      "cell_type": "code",
      "source": [
        "model = Sequential()\n",
        "model.add(Dense(32, Activation('relu'), input_shape=(784,)))\n",
        "model.add(Dense(10, Activation('softmax')))\n",
        "\n",
        "adagrad = optimizers.Adagrad(epsilon=1e-08)\n",
        "model.compile(loss='categorical_crossentropy', optimizer=adagrad, metrics=['accuracy'])\n",
        "\n",
        "model.fit(X_train, Y_train, batch_size=128, epochs=10, validation_split=0.16, verbose=1)\n",
        "\n",
        "score = model.evaluate(X_test, Y_test)\n",
        "print('Test score:', score[0])\n",
        "print('Test accuracy:', score[1])\n",
        "\n",
        "acc_adagrad += score[1]\n",
        "count += 1"
      ],
      "metadata": {
        "colab": {
          "base_uri": "https://localhost:8080/"
        },
        "id": "Qtsza4B7gH49",
        "outputId": "2c7ff808-049a-4121-d113-4f8c33c329f9"
      },
      "execution_count": 57,
      "outputs": [
        {
          "output_type": "stream",
          "name": "stdout",
          "text": [
            "Epoch 1/10\n",
            "394/394 [==============================] - 2s 4ms/step - loss: 2.0685 - accuracy: 0.3680 - val_loss: 1.7778 - val_accuracy: 0.5878\n",
            "Epoch 2/10\n",
            "394/394 [==============================] - 1s 3ms/step - loss: 1.5920 - accuracy: 0.6387 - val_loss: 1.3781 - val_accuracy: 0.7193\n",
            "Epoch 3/10\n",
            "394/394 [==============================] - 1s 3ms/step - loss: 1.2842 - accuracy: 0.7246 - val_loss: 1.1277 - val_accuracy: 0.7875\n",
            "Epoch 4/10\n",
            "394/394 [==============================] - 1s 3ms/step - loss: 1.0879 - accuracy: 0.7725 - val_loss: 0.9631 - val_accuracy: 0.8233\n",
            "Epoch 5/10\n",
            "394/394 [==============================] - 1s 3ms/step - loss: 0.9532 - accuracy: 0.8010 - val_loss: 0.8472 - val_accuracy: 0.8423\n",
            "Epoch 6/10\n",
            "394/394 [==============================] - 1s 3ms/step - loss: 0.8563 - accuracy: 0.8190 - val_loss: 0.7630 - val_accuracy: 0.8550\n",
            "Epoch 7/10\n",
            "394/394 [==============================] - 1s 3ms/step - loss: 0.7843 - accuracy: 0.8315 - val_loss: 0.7002 - val_accuracy: 0.8624\n",
            "Epoch 8/10\n",
            "394/394 [==============================] - 1s 3ms/step - loss: 0.7292 - accuracy: 0.8402 - val_loss: 0.6518 - val_accuracy: 0.8676\n",
            "Epoch 9/10\n",
            "394/394 [==============================] - 1s 3ms/step - loss: 0.6858 - accuracy: 0.8467 - val_loss: 0.6131 - val_accuracy: 0.8718\n",
            "Epoch 10/10\n",
            "394/394 [==============================] - 1s 3ms/step - loss: 0.6506 - accuracy: 0.8512 - val_loss: 0.5817 - val_accuracy: 0.8753\n",
            "313/313 [==============================] - 1s 2ms/step - loss: 0.6058 - accuracy: 0.8673\n",
            "Test score: 0.6057928800582886\n",
            "Test accuracy: 0.8672999739646912\n"
          ]
        }
      ]
    },
    {
      "cell_type": "code",
      "source": [
        "model = Sequential()\n",
        "model.add(Dense(32, Activation('relu'), input_shape=(784,)))\n",
        "model.add(Dense(10, Activation('softmax')))\n",
        "\n",
        "adagrad = optimizers.Adagrad(decay=0.0)\n",
        "model.compile(loss='categorical_crossentropy', optimizer=adagrad, metrics=['accuracy'])\n",
        "\n",
        "model.fit(X_train, Y_train, batch_size=128, epochs=10, validation_split=0.16, verbose=1)\n",
        "\n",
        "score = model.evaluate(X_test, Y_test)\n",
        "print('Test score:', score[0])\n",
        "print('Test accuracy:', score[1])\n",
        "\n",
        "acc_adagrad += score[1]\n",
        "count += 1"
      ],
      "metadata": {
        "colab": {
          "base_uri": "https://localhost:8080/"
        },
        "id": "tkU9dEmig3zs",
        "outputId": "1535ef72-b2f7-45b1-de03-d1be7ad74ec5"
      },
      "execution_count": 58,
      "outputs": [
        {
          "output_type": "stream",
          "name": "stdout",
          "text": [
            "Epoch 1/10\n",
            "394/394 [==============================] - 2s 4ms/step - loss: 2.0903 - accuracy: 0.3209 - val_loss: 1.8181 - val_accuracy: 0.5282\n",
            "Epoch 2/10\n",
            "394/394 [==============================] - 1s 3ms/step - loss: 1.6391 - accuracy: 0.5959 - val_loss: 1.4221 - val_accuracy: 0.7016\n",
            "Epoch 3/10\n",
            "394/394 [==============================] - 1s 3ms/step - loss: 1.3196 - accuracy: 0.7120 - val_loss: 1.1543 - val_accuracy: 0.7803\n",
            "Epoch 4/10\n",
            "394/394 [==============================] - 1s 4ms/step - loss: 1.1093 - accuracy: 0.7654 - val_loss: 0.9796 - val_accuracy: 0.8139\n",
            "Epoch 5/10\n",
            "394/394 [==============================] - 1s 4ms/step - loss: 0.9695 - accuracy: 0.7924 - val_loss: 0.8618 - val_accuracy: 0.8338\n",
            "Epoch 6/10\n",
            "394/394 [==============================] - 1s 4ms/step - loss: 0.8714 - accuracy: 0.8094 - val_loss: 0.7769 - val_accuracy: 0.8476\n",
            "Epoch 7/10\n",
            "394/394 [==============================] - 1s 4ms/step - loss: 0.7981 - accuracy: 0.8211 - val_loss: 0.7126 - val_accuracy: 0.8550\n",
            "Epoch 8/10\n",
            "394/394 [==============================] - 1s 4ms/step - loss: 0.7416 - accuracy: 0.8314 - val_loss: 0.6627 - val_accuracy: 0.8611\n",
            "Epoch 9/10\n",
            "394/394 [==============================] - 1s 4ms/step - loss: 0.6971 - accuracy: 0.8388 - val_loss: 0.6236 - val_accuracy: 0.8670\n",
            "Epoch 10/10\n",
            "394/394 [==============================] - 1s 3ms/step - loss: 0.6612 - accuracy: 0.8454 - val_loss: 0.5917 - val_accuracy: 0.8720\n",
            "313/313 [==============================] - 1s 2ms/step - loss: 0.6139 - accuracy: 0.8588\n",
            "Test score: 0.613908052444458\n",
            "Test accuracy: 0.8587999939918518\n"
          ]
        }
      ]
    },
    {
      "cell_type": "code",
      "source": [
        "# The average accuracy for Adagrad optimizer \n",
        "acc = acc_adagrad/count\n",
        "print ('Average Accuracy Adagrad Optimizer :', acc)"
      ],
      "metadata": {
        "colab": {
          "base_uri": "https://localhost:8080/"
        },
        "id": "-LWEMSLehFGZ",
        "outputId": "10a37344-ff8e-4e58-8f17-aa3292c4d364"
      },
      "execution_count": 59,
      "outputs": [
        {
          "output_type": "stream",
          "name": "stdout",
          "text": [
            "Average Accuracy Adagrad Optimizer : 0.864466647307078\n"
          ]
        }
      ]
    }
  ],
  "metadata": {
    "kernelspec": {
      "display_name": "Python 3",
      "language": "python",
      "name": "python3"
    },
    "language_info": {
      "codemirror_mode": {
        "name": "ipython",
        "version": 3
      },
      "file_extension": ".py",
      "mimetype": "text/x-python",
      "name": "python",
      "nbconvert_exporter": "python",
      "pygments_lexer": "ipython3",
      "version": "3.7.7"
    },
    "colab": {
      "name": "Assignment_5_mnist_1_029357001.ipynb",
      "provenance": []
    }
  },
  "nbformat": 4,
  "nbformat_minor": 0
}